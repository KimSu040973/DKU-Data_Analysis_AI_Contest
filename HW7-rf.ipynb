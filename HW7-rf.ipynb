{
 "cells": [
  {
   "cell_type": "markdown",
   "metadata": {},
   "source": [
    "# RF 데모"
   ]
  },
  {
   "cell_type": "markdown",
   "metadata": {},
   "source": [
    "* 각각의 모델의 피처를 랜덤으로 골라 학습하여 조합하는 방법  \n",
    "여러 결정트리를 **랜덤 피처 + 랜덤 샘플** 로 학습 후 조합(bagging)  \n",
    "=>배깅을 조합하여 예측하는 방법이 지금의 여러 결정트리 = **Random forest**  \n",
    "\n",
    "    [Model Error_Noise(irreducible error) + bias + variance]  \n",
    ">Bias_지속적으로 잘못된 것들을 학습하는 경향  \n",
    "(예측값은 원래값과 차이가 크다)  \n",
    "Variance_너무 세세한 부분까지 학습하여 모델을 만들다보니 새로운 데이터에 예민   \n",
    "(원래값이 1일 경우 평균 값은 1이지만 개별적으로 보면 -100과 100이 범위를 넘나듬)\n",
    "\n",
    "- 단일DT  \n",
    "    많은 오버피팅, 얀간의 변화된 학습데이터와 인자에 예민함  \n",
    "    low bias + high variance--> 전체적 성능 안좋음  \n",
    "- RF  \n",
    "    여러 조합으로 높은 분산을 감소시켜 전체적인 성능을 높여준다."
   ]
  },
  {
   "cell_type": "markdown",
   "metadata": {},
   "source": [
    "## 라이브러리 import 및 설정"
   ]
  },
  {
   "cell_type": "code",
   "execution_count": 10,
   "metadata": {},
   "outputs": [],
   "source": [
    "%reload_ext autoreload\n",
    "%autoreload 2\n",
    "%matplotlib inline"
   ]
  },
  {
   "cell_type": "code",
   "execution_count": 11,
   "metadata": {},
   "outputs": [],
   "source": [
    "from matplotlib import pyplot as plt\n",
    "from matplotlib import rcParams\n",
    "import numpy as np\n",
    "from pathlib import Path\n",
    "import pandas as pd\n",
    "from sklearn.ensemble import RandomForestClassifier\n",
    "from sklearn.metrics import accuracy_score\n",
    "from sklearn.model_selection import train_test_split\n",
    "import seaborn as sns\n",
    "import warnings"
   ]
  },
  {
   "cell_type": "code",
   "execution_count": 12,
   "metadata": {},
   "outputs": [],
   "source": [
    "rcParams['figure.figsize'] = (16, 8)\n",
    "plt.style.use('fivethirtyeight')\n",
    "pd.set_option('max_columns', 100)\n",
    "pd.set_option(\"display.precision\", 4)\n",
    "warnings.simplefilter('ignore')"
   ]
  },
  {
   "cell_type": "markdown",
   "metadata": {},
   "source": [
    "## 학습데이터 로드"
   ]
  },
  {
   "cell_type": "code",
   "execution_count": 13,
   "metadata": {},
   "outputs": [],
   "source": [
    "data_dir = Path('C:\\\\Users\\\\USER\\\\Desktop\\\\오픈소스SW설계\\\\단국대\\\\DataInput\\\\')\n",
    "sub_dir = Path('C:\\\\Users\\\\USER\\\\Desktop\\\\오픈소스SW설계\\\\단국대\\\\sub\\\\')\n",
    "feature_dir = Path('C:\\\\Users\\\\USER\\\\Desktop\\\\오픈소스SW설계\\\\단국대\\\\DataInput\\\\')\n",
    "\n",
    "trn_file = data_dir / 'train.csv'\n",
    "tst_file = data_dir / 'test.csv'\n",
    "sample_file = data_dir / 'sample_submission.csv'\n",
    "\n",
    "target_col = 'class'\n",
    "seed = 42"
   ]
  },
  {
   "cell_type": "code",
   "execution_count": 14,
   "metadata": {},
   "outputs": [],
   "source": [
    "algo_name = 'rf'\n",
    "feature_name = 'feature'\n",
    "model_name = f'{algo_name}_{feature_name}'\n",
    "\n",
    "feature_file = feature_dir / f'{feature_name}.csv'\n",
    "sub_file = sub_dir / f'{model_name}.csv'"
   ]
  },
  {
   "cell_type": "code",
   "execution_count": 15,
   "metadata": {},
   "outputs": [
    {
     "name": "stdout",
     "output_type": "stream",
     "text": [
      "(400000, 20)\n"
     ]
    },
    {
     "data": {
      "text/html": [
       "<div>\n",
       "<style scoped>\n",
       "    .dataframe tbody tr th:only-of-type {\n",
       "        vertical-align: middle;\n",
       "    }\n",
       "\n",
       "    .dataframe tbody tr th {\n",
       "        vertical-align: top;\n",
       "    }\n",
       "\n",
       "    .dataframe thead th {\n",
       "        text-align: right;\n",
       "    }\n",
       "</style>\n",
       "<table border=\"1\" class=\"dataframe\">\n",
       "  <thead>\n",
       "    <tr style=\"text-align: right;\">\n",
       "      <th></th>\n",
       "      <th>z</th>\n",
       "      <th>redshift</th>\n",
       "      <th>dered_u</th>\n",
       "      <th>dered_g</th>\n",
       "      <th>dered_r</th>\n",
       "      <th>dered_i</th>\n",
       "      <th>dered_z</th>\n",
       "      <th>nObserve</th>\n",
       "      <th>airmass_u</th>\n",
       "      <th>class</th>\n",
       "      <th>d_dered_u</th>\n",
       "      <th>d_dered_g</th>\n",
       "      <th>d_dered_r</th>\n",
       "      <th>d_dered_i</th>\n",
       "      <th>d_dered_z</th>\n",
       "      <th>d_dered_ig</th>\n",
       "      <th>d_dered_zg</th>\n",
       "      <th>d_dered_rz</th>\n",
       "      <th>d_dered_iz</th>\n",
       "      <th>d_obs_det</th>\n",
       "    </tr>\n",
       "    <tr>\n",
       "      <th>id</th>\n",
       "      <th></th>\n",
       "      <th></th>\n",
       "      <th></th>\n",
       "      <th></th>\n",
       "      <th></th>\n",
       "      <th></th>\n",
       "      <th></th>\n",
       "      <th></th>\n",
       "      <th></th>\n",
       "      <th></th>\n",
       "      <th></th>\n",
       "      <th></th>\n",
       "      <th></th>\n",
       "      <th></th>\n",
       "      <th></th>\n",
       "      <th></th>\n",
       "      <th></th>\n",
       "      <th></th>\n",
       "      <th></th>\n",
       "      <th></th>\n",
       "    </tr>\n",
       "  </thead>\n",
       "  <tbody>\n",
       "    <tr>\n",
       "      <th>0</th>\n",
       "      <td>16.9396</td>\n",
       "      <td>-8.1086e-05</td>\n",
       "      <td>23.1243</td>\n",
       "      <td>20.2578</td>\n",
       "      <td>18.9551</td>\n",
       "      <td>17.6321</td>\n",
       "      <td>16.9089</td>\n",
       "      <td>2.9444</td>\n",
       "      <td>1.1898</td>\n",
       "      <td>0.0</td>\n",
       "      <td>-0.1397</td>\n",
       "      <td>-0.0790</td>\n",
       "      <td>-0.0544</td>\n",
       "      <td>-0.0403</td>\n",
       "      <td>-0.0307</td>\n",
       "      <td>-2.6257</td>\n",
       "      <td>-3.3488</td>\n",
       "      <td>2.0462</td>\n",
       "      <td>0.7232</td>\n",
       "      <td>-15.0556</td>\n",
       "    </tr>\n",
       "    <tr>\n",
       "      <th>1</th>\n",
       "      <td>13.1689</td>\n",
       "      <td>4.5061e-03</td>\n",
       "      <td>14.9664</td>\n",
       "      <td>14.0045</td>\n",
       "      <td>13.4114</td>\n",
       "      <td>13.2363</td>\n",
       "      <td>13.1347</td>\n",
       "      <td>0.6931</td>\n",
       "      <td>1.2533</td>\n",
       "      <td>1.0</td>\n",
       "      <td>-0.0857</td>\n",
       "      <td>-0.0574</td>\n",
       "      <td>-0.0410</td>\n",
       "      <td>-0.0322</td>\n",
       "      <td>-0.0343</td>\n",
       "      <td>-0.7683</td>\n",
       "      <td>-0.8698</td>\n",
       "      <td>0.2767</td>\n",
       "      <td>0.1016</td>\n",
       "      <td>-0.3069</td>\n",
       "    </tr>\n",
       "    <tr>\n",
       "      <th>2</th>\n",
       "      <td>15.3500</td>\n",
       "      <td>4.7198e-04</td>\n",
       "      <td>16.6076</td>\n",
       "      <td>15.6866</td>\n",
       "      <td>15.4400</td>\n",
       "      <td>15.3217</td>\n",
       "      <td>15.2961</td>\n",
       "      <td>1.0986</td>\n",
       "      <td>1.0225</td>\n",
       "      <td>0.0</td>\n",
       "      <td>-0.1787</td>\n",
       "      <td>-0.1388</td>\n",
       "      <td>-0.0963</td>\n",
       "      <td>-0.0718</td>\n",
       "      <td>-0.0540</td>\n",
       "      <td>-0.3649</td>\n",
       "      <td>-0.3905</td>\n",
       "      <td>0.1440</td>\n",
       "      <td>0.0257</td>\n",
       "      <td>-0.9014</td>\n",
       "    </tr>\n",
       "    <tr>\n",
       "      <th>3</th>\n",
       "      <td>19.6346</td>\n",
       "      <td>5.8143e-06</td>\n",
       "      <td>25.3536</td>\n",
       "      <td>20.9947</td>\n",
       "      <td>20.0873</td>\n",
       "      <td>19.7947</td>\n",
       "      <td>19.5552</td>\n",
       "      <td>1.6094</td>\n",
       "      <td>1.2054</td>\n",
       "      <td>0.0</td>\n",
       "      <td>-0.3070</td>\n",
       "      <td>-0.1941</td>\n",
       "      <td>-0.1339</td>\n",
       "      <td>-0.1003</td>\n",
       "      <td>-0.0795</td>\n",
       "      <td>-1.2000</td>\n",
       "      <td>-1.4395</td>\n",
       "      <td>0.5321</td>\n",
       "      <td>0.2395</td>\n",
       "      <td>-1.3906</td>\n",
       "    </tr>\n",
       "    <tr>\n",
       "      <th>4</th>\n",
       "      <td>17.9826</td>\n",
       "      <td>-3.3247e-05</td>\n",
       "      <td>23.7714</td>\n",
       "      <td>20.4338</td>\n",
       "      <td>18.8630</td>\n",
       "      <td>18.1903</td>\n",
       "      <td>17.8759</td>\n",
       "      <td>2.6391</td>\n",
       "      <td>1.1939</td>\n",
       "      <td>0.0</td>\n",
       "      <td>-0.6820</td>\n",
       "      <td>-0.2653</td>\n",
       "      <td>-0.1794</td>\n",
       "      <td>-0.1339</td>\n",
       "      <td>-0.1067</td>\n",
       "      <td>-2.2436</td>\n",
       "      <td>-2.5579</td>\n",
       "      <td>0.9871</td>\n",
       "      <td>0.3144</td>\n",
       "      <td>-9.3609</td>\n",
       "    </tr>\n",
       "  </tbody>\n",
       "</table>\n",
       "</div>"
      ],
      "text/plain": [
       "          z    redshift  dered_u  dered_g  dered_r  dered_i  dered_z  \\\n",
       "id                                                                     \n",
       "0   16.9396 -8.1086e-05  23.1243  20.2578  18.9551  17.6321  16.9089   \n",
       "1   13.1689  4.5061e-03  14.9664  14.0045  13.4114  13.2363  13.1347   \n",
       "2   15.3500  4.7198e-04  16.6076  15.6866  15.4400  15.3217  15.2961   \n",
       "3   19.6346  5.8143e-06  25.3536  20.9947  20.0873  19.7947  19.5552   \n",
       "4   17.9826 -3.3247e-05  23.7714  20.4338  18.8630  18.1903  17.8759   \n",
       "\n",
       "    nObserve  airmass_u  class  d_dered_u  d_dered_g  d_dered_r  d_dered_i  \\\n",
       "id                                                                           \n",
       "0     2.9444     1.1898    0.0    -0.1397    -0.0790    -0.0544    -0.0403   \n",
       "1     0.6931     1.2533    1.0    -0.0857    -0.0574    -0.0410    -0.0322   \n",
       "2     1.0986     1.0225    0.0    -0.1787    -0.1388    -0.0963    -0.0718   \n",
       "3     1.6094     1.2054    0.0    -0.3070    -0.1941    -0.1339    -0.1003   \n",
       "4     2.6391     1.1939    0.0    -0.6820    -0.2653    -0.1794    -0.1339   \n",
       "\n",
       "    d_dered_z  d_dered_ig  d_dered_zg  d_dered_rz  d_dered_iz  d_obs_det  \n",
       "id                                                                        \n",
       "0     -0.0307     -2.6257     -3.3488      2.0462      0.7232   -15.0556  \n",
       "1     -0.0343     -0.7683     -0.8698      0.2767      0.1016    -0.3069  \n",
       "2     -0.0540     -0.3649     -0.3905      0.1440      0.0257    -0.9014  \n",
       "3     -0.0795     -1.2000     -1.4395      0.5321      0.2395    -1.3906  \n",
       "4     -0.1067     -2.2436     -2.5579      0.9871      0.3144    -9.3609  "
      ]
     },
     "execution_count": 15,
     "metadata": {},
     "output_type": "execute_result"
    }
   ],
   "source": [
    "df = pd.read_csv(feature_file, index_col=0)\n",
    "print(df.shape)\n",
    "df.head()"
   ]
  },
  {
   "cell_type": "code",
   "execution_count": 16,
   "metadata": {},
   "outputs": [
    {
     "name": "stdout",
     "output_type": "stream",
     "text": [
      "(320000,) (320000, 19) (80000, 19)\n"
     ]
    }
   ],
   "source": [
    "y = df[target_col].values[:320000]         #종속\n",
    "df.drop(target_col, axis=1, inplace=True)  #독립을 위한 종속 제거\n",
    "trn = df.iloc[:320000]                     #train을 위한 독립 320000개     \n",
    "tst = df.iloc[320000:]                     #test을 위한 독립 80000개\n",
    "feature_name = df.columns.tolist()         #독립변수 이름 리스트로 변환\n",
    "print(y.shape, trn.shape, tst.shape)"
   ]
  },
  {
   "cell_type": "markdown",
   "metadata": {},
   "source": [
    "## 학습/검증 데이터 구분\n",
    "**학습 후 모델의 예측/분류 정확도 계산을 위한 검증데이터 분리**"
   ]
  },
  {
   "cell_type": "code",
   "execution_count": 17,
   "metadata": {},
   "outputs": [
    {
     "name": "stdout",
     "output_type": "stream",
     "text": [
      "(256000, 19) (64000, 19) (256000,) (64000,)\n"
     ]
    }
   ],
   "source": [
    "X_trn, X_val, y_trn, y_val = train_test_split(trn, y, test_size=.2, random_state=seed)\n",
    "print(X_trn.shape, X_val.shape, y_trn.shape, y_val.shape)"
   ]
  },
  {
   "cell_type": "markdown",
   "metadata": {},
   "source": [
    "## Random Forest 모델 학습"
   ]
  },
  {
   "cell_type": "code",
   "execution_count": 19,
   "metadata": {},
   "outputs": [],
   "source": [
    "clf = RandomForestClassifier(n_estimators=400,\n",
    "                             max_features='auto', \n",
    "                             max_samples=.9,\n",
    "                             random_state=seed,\n",
    "                             n_jobs=-1\n",
    "                             )\n",
    "clf.fit(X_trn, y_trn)       #학습 데이터로 훈련(learning)\n",
    "p_val = clf.predict(X_val)  #학습데이터로 훈련시킨 모델에 검증데이터로 예측값 추출\n",
    "p_tst = clf.predict(tst)    #학습데이터로 훈련시킨 모델에 테스트데이터로 예측값 추출"
   ]
  },
  {
   "cell_type": "markdown",
   "metadata": {},
   "source": [
    "**( 범주값 출력: clf.pedict(), 확률값출력: clf.predict_proba() )**"
   ]
  },
  {
   "cell_type": "code",
   "execution_count": 20,
   "metadata": {},
   "outputs": [
    {
     "name": "stdout",
     "output_type": "stream",
     "text": [
      "93.0078%\n"
     ]
    }
   ],
   "source": [
    "print(f'{accuracy_score(y_val, p_val) * 100:.4f}%') #93.0453%"
   ]
  },
  {
   "cell_type": "markdown",
   "metadata": {},
   "source": [
    "## 피처 중요도 시각화\n",
    "* 여러 모델 시각화 대신 각 모델에서 손실 감소에 기여한 피처들의 중요도를 보기 위한 과정"
   ]
  },
  {
   "cell_type": "code",
   "execution_count": 21,
   "metadata": {},
   "outputs": [
    {
     "data": {
      "text/plain": [
       "<matplotlib.axes._subplots.AxesSubplot at 0x23507af70a0>"
      ]
     },
     "execution_count": 21,
     "metadata": {},
     "output_type": "execute_result"
    },
    {
     "data": {
      "image/png": "[encoded data removed]",
      "text/plain": [
       "<Figure size 1152x576 with 1 Axes>"
      ]
     },
     "metadata": {},
     "output_type": "display_data"
    }
   ],
   "source": [
    "imp = pd.DataFrame({'feature': trn.columns, 'importance': clf.feature_importances_})\n",
    "imp = imp.sort_values('importance').set_index('feature')\n",
    "imp.plot(kind='barh')"
   ]
  },
  {
   "cell_type": "markdown",
   "metadata": {},
   "source": [
    "## 제출 파일 생성"
   ]
  },
  {
   "cell_type": "code",
   "execution_count": 22,
   "metadata": {},
   "outputs": [
    {
     "name": "stdout",
     "output_type": "stream",
     "text": [
      "(80000, 1)\n"
     ]
    },
    {
     "data": {
      "text/html": [
       "<div>\n",
       "<style scoped>\n",
       "    .dataframe tbody tr th:only-of-type {\n",
       "        vertical-align: middle;\n",
       "    }\n",
       "\n",
       "    .dataframe tbody tr th {\n",
       "        vertical-align: top;\n",
       "    }\n",
       "\n",
       "    .dataframe thead th {\n",
       "        text-align: right;\n",
       "    }\n",
       "</style>\n",
       "<table border=\"1\" class=\"dataframe\">\n",
       "  <thead>\n",
       "    <tr style=\"text-align: right;\">\n",
       "      <th></th>\n",
       "      <th>class</th>\n",
       "    </tr>\n",
       "    <tr>\n",
       "      <th>id</th>\n",
       "      <th></th>\n",
       "    </tr>\n",
       "  </thead>\n",
       "  <tbody>\n",
       "    <tr>\n",
       "      <th>320000</th>\n",
       "      <td>0</td>\n",
       "    </tr>\n",
       "    <tr>\n",
       "      <th>320001</th>\n",
       "      <td>0</td>\n",
       "    </tr>\n",
       "    <tr>\n",
       "      <th>320002</th>\n",
       "      <td>0</td>\n",
       "    </tr>\n",
       "    <tr>\n",
       "      <th>320003</th>\n",
       "      <td>0</td>\n",
       "    </tr>\n",
       "    <tr>\n",
       "      <th>320004</th>\n",
       "      <td>0</td>\n",
       "    </tr>\n",
       "  </tbody>\n",
       "</table>\n",
       "</div>"
      ],
      "text/plain": [
       "        class\n",
       "id           \n",
       "320000      0\n",
       "320001      0\n",
       "320002      0\n",
       "320003      0\n",
       "320004      0"
      ]
     },
     "execution_count": 22,
     "metadata": {},
     "output_type": "execute_result"
    }
   ],
   "source": [
    "sub = pd.read_csv(sample_file, index_col=0)\n",
    "print(sub.shape)\n",
    "sub.head()"
   ]
  },
  {
   "cell_type": "code",
   "execution_count": 23,
   "metadata": {},
   "outputs": [
    {
     "data": {
      "text/html": [
       "<div>\n",
       "<style scoped>\n",
       "    .dataframe tbody tr th:only-of-type {\n",
       "        vertical-align: middle;\n",
       "    }\n",
       "\n",
       "    .dataframe tbody tr th {\n",
       "        vertical-align: top;\n",
       "    }\n",
       "\n",
       "    .dataframe thead th {\n",
       "        text-align: right;\n",
       "    }\n",
       "</style>\n",
       "<table border=\"1\" class=\"dataframe\">\n",
       "  <thead>\n",
       "    <tr style=\"text-align: right;\">\n",
       "      <th></th>\n",
       "      <th>class</th>\n",
       "    </tr>\n",
       "    <tr>\n",
       "      <th>id</th>\n",
       "      <th></th>\n",
       "    </tr>\n",
       "  </thead>\n",
       "  <tbody>\n",
       "    <tr>\n",
       "      <th>320000</th>\n",
       "      <td>2.0</td>\n",
       "    </tr>\n",
       "    <tr>\n",
       "      <th>320001</th>\n",
       "      <td>0.0</td>\n",
       "    </tr>\n",
       "    <tr>\n",
       "      <th>320002</th>\n",
       "      <td>2.0</td>\n",
       "    </tr>\n",
       "    <tr>\n",
       "      <th>320003</th>\n",
       "      <td>0.0</td>\n",
       "    </tr>\n",
       "    <tr>\n",
       "      <th>320004</th>\n",
       "      <td>2.0</td>\n",
       "    </tr>\n",
       "  </tbody>\n",
       "</table>\n",
       "</div>"
      ],
      "text/plain": [
       "        class\n",
       "id           \n",
       "320000    2.0\n",
       "320001    0.0\n",
       "320002    2.0\n",
       "320003    0.0\n",
       "320004    2.0"
      ]
     },
     "execution_count": 23,
     "metadata": {},
     "output_type": "execute_result"
    }
   ],
   "source": [
    "sub[target_col] = p_tst\n",
    "sub.head()"
   ]
  },
  {
   "cell_type": "code",
   "execution_count": 24,
   "metadata": {},
   "outputs": [
    {
     "data": {
      "text/plain": [
       "2.0    41668\n",
       "0.0    29962\n",
       "1.0     8370\n",
       "Name: class, dtype: int64"
      ]
     },
     "execution_count": 24,
     "metadata": {},
     "output_type": "execute_result"
    }
   ],
   "source": [
    "sub[target_col].value_counts()"
   ]
  },
  {
   "cell_type": "code",
   "execution_count": 15,
   "metadata": {},
   "outputs": [],
   "source": [
    "sub.to_csv(sub_file)"
   ]
  }
 ],
 "metadata": {
  "kernelspec": {
   "display_name": "Python 3",
   "language": "python",
   "name": "python3"
  },
  "language_info": {
   "codemirror_mode": {
    "name": "ipython",
    "version": 3
   },
   "file_extension": ".py",
   "mimetype": "text/x-python",
   "name": "python",
   "nbconvert_exporter": "python",
   "pygments_lexer": "ipython3",
   "version": "3.8.3"
  }
 },
 "nbformat": 4,
 "nbformat_minor": 4
}
