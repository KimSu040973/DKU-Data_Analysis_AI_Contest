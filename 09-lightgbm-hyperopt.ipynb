{
 "cells": [
  {
   "cell_type": "code",
   "execution_count": 9,
   "metadata": {},
   "outputs": [],
   "source": [
    "%reload_ext autoreload\n",
    "%autoreload 2\n",
    "%matplotlib inline\n",
    "from hyperopt import STATUS_OK, Trials, hp, space_eval, tpe, fmin\n",
    "import lightgbm as lgb\n",
    "from matplotlib import pyplot as plt\n",
    "from matplotlib import rcParams\n",
    "import numpy as np\n",
    "from pathlib import Path\n",
    "import pandas as pd\n",
    "from sklearn.metrics import accuracy_score\n",
    "from sklearn.model_selection import StratifiedKFold, train_test_split\n",
    "import seaborn as sns\n",
    "import warnings\n",
    "rcParams['figure.figsize'] = (16, 8)\n",
    "plt.style.use('fivethirtyeight')\n",
    "pd.set_option('max_columns', 100)\n",
    "pd.set_option(\"display.precision\", 4)\n",
    "warnings.simplefilter('ignore')\n",
    "\n",
    "data_dir = Path('C:\\\\Users\\\\DKU\\\\Desktop\\\\단국대\\\\')\n",
    "feature_dir = Path('C:\\\\Users\\\\DKU\\\\Desktop\\\\단국대\\\\build\\\\fea\\\\')\n",
    "val_dir = Path('C:\\\\sers\\\\DKU\\\\Desktop\\\\단국대\\\\build\\\\val\\\\')\n",
    "tst_dir = Path('C:\\\\sers\\\\DKU\\\\Desktop\\\\단국대\\\\build\\\\tst\\\\')\n",
    "sub_dir = Path('C:\\\\sers\\\\DKU\\\\Desktop\\\\단국대\\\\build\\\\sub\\\\')\n",
    "\n",
    "trn_file = data_dir / 'train.csv'\n",
    "tst_file = data_dir / 'test.csv'\n",
    "sample_file = data_dir / 'sample_submission.csv'\n",
    "\n",
    "target_col = 'class'\n",
    "n_fold = 5\n",
    "n_class = 3\n",
    "seed = 1023\n",
    "\n",
    "algo_name = 'lgb_hyperopt'\n",
    "feature_name = 'feature'\n",
    "model_name = f'{algo_name}_{feature_name}'\n",
    "\n",
    "feature_file = feature_dir / f'{feature_name}.csv'\n",
    "p_val_file = val_dir / f'{model_name}.val.csv'\n",
    "p_tst_file = tst_dir / f'{model_name}.tst.csv'\n",
    "sub_file = sub_dir / f'{model_name}.csv'\n",
    "df = pd.read_csv(feature_file, index_col=0)\n"
   ]
  },
  {
   "cell_type": "code",
   "execution_count": 10,
   "metadata": {},
   "outputs": [
    {
     "name": "stdout",
     "output_type": "stream",
     "text": [
      "(320000,) (320000, 19) (80000, 19)\n"
     ]
    }
   ],
   "source": [
    "y = df[target_col].values[:320000]\n",
    "df.drop(target_col, axis=1, inplace=True)\n",
    "trn = df.iloc[:320000].values\n",
    "tst = df.iloc[320000:].values\n",
    "feature_name = df.columns.tolist()\n",
    "print(y.shape, trn.shape, tst.shape)"
   ]
  },
  {
   "cell_type": "code",
   "execution_count": 11,
   "metadata": {},
   "outputs": [],
   "source": [
    "X_trn, X_val, y_trn, y_val = train_test_split(trn, y, test_size=.2, random_state=seed)\n"
   ]
  },
  {
   "cell_type": "code",
   "execution_count": null,
   "metadata": {},
   "outputs": [
    {
     "name": "stdout",
     "output_type": "stream",
     "text": [
      " 10%|████████▌                                                                            | 1/10 [00:47<07:09, 47.67s/trial, best loss: 0.16286332344533963]"
     ]
    }
   ],
   "source": [
    "params = {\n",
    "    \"objective\": \"multiclass\",\n",
    "    \"n_estimators\": 1000,\n",
    "    \"subsample_freq\": 1,\n",
    "    \"random_state\": seed,\n",
    "    \"n_jobs\": -1,\n",
    "}\n",
    "\n",
    "space = {\n",
    "    \"learning_rate\": hp.loguniform(\"learning_rate\", np.log(0.01), np.log(0.3)),\n",
    "    \"num_leaves\": hp.choice(\"num_leaves\", [15, 31, 63, 127]),\n",
    "    \"colsample_bytree\": hp.quniform(\"colsample_bytree\", .5, .9, 0.1),\n",
    "    \"subsample\": hp.quniform(\"subsample\", .5, .9, 0.1),\n",
    "    \"min_child_samples\": hp.choice('min_child_samples', [10, 25, 100])\n",
    "}\n",
    "\n",
    "def objective(hyperparams):\n",
    "    model = lgb.LGBMClassifier(**params, **hyperparams)\n",
    "    model.fit(X=X_trn, y=y_trn,\n",
    "              eval_set=[(X_val, y_val)],\n",
    "              eval_metric=\"multi_logloss\",\n",
    "              early_stopping_rounds=10,\n",
    "              verbose=False)\n",
    "    score = model.best_score_[\"valid_0\"][\"multi_logloss\"]\n",
    "\n",
    "    return {'loss': score, 'status': STATUS_OK, 'model': model}\n",
    "\n",
    "trials = Trials()\n",
    "best = fmin(fn=objective, space=space, trials=trials,\n",
    "            algo=tpe.suggest, max_evals=10, verbose=1)\n",
    "\n",
    "hyperparams = space_eval(space, best)\n",
    "n_best = trials.best_trial['result']['model'].best_iteration_\n",
    "params.update(hyperparams)\n",
    "print(params)"
   ]
  },
  {
   "cell_type": "code",
   "execution_count": null,
   "metadata": {},
   "outputs": [],
   "source": [
    "cv = StratifiedKFold(n_splits=n_fold, shuffle=True, random_state=seed)\n"
   ]
  },
  {
   "cell_type": "code",
   "execution_count": null,
   "metadata": {},
   "outputs": [],
   "source": [
    "p_val = np.zeros((trn.shape[0], n_class))\n",
    "p_tst = np.zeros((tst.shape[0], n_class))\n",
    "for i, (i_trn, i_val) in enumerate(cv.split(trn, y), 1):\n",
    "    print(f'training model for CV #{i}')\n",
    "    clf = lgb.LGBMClassifier(**params)\n",
    "    clf.fit(trn[i_trn], y[i_trn],\n",
    "            eval_set=[(trn[i_val], y[i_val])],\n",
    "            eval_metric='multiclass',\n",
    "            early_stopping_rounds=10)\n",
    "    \n",
    "    p_val[i_val, :] = clf.predict_proba(trn[i_val])\n",
    "    p_tst += clf.predict_proba(tst) / n_fold"
   ]
  },
  {
   "cell_type": "code",
   "execution_count": null,
   "metadata": {},
   "outputs": [],
   "source": [
    "print(f'{accuracy_score(y, np.argmax(p_val, axis=1)) * 100:.4f}%')"
   ]
  },
  {
   "cell_type": "code",
   "execution_count": null,
   "metadata": {},
   "outputs": [],
   "source": [
    "np.savetxt(p_val_file, p_val, fmt='%.6f', delimiter=',')\n",
    "np.savetxt(p_tst_file, p_tst, fmt='%.6f', delimiter=',')"
   ]
  },
  {
   "cell_type": "markdown",
   "metadata": {},
   "source": [
    "피처 중요도 시각화\n"
   ]
  },
  {
   "cell_type": "code",
   "execution_count": null,
   "metadata": {},
   "outputs": [],
   "source": [
    "imp = pd.DataFrame({'feature': df.columns, 'importance': clf.feature_importances_})\n",
    "imp = imp.sort_values('importance').set_index('feature')\n",
    "imp.plot(kind='barh')"
   ]
  }
 ],
 "metadata": {
  "kernelspec": {
   "display_name": "Python 3",
   "language": "python",
   "name": "python3"
  },
  "language_info": {
   "codemirror_mode": {
    "name": "ipython",
    "version": 3
   },
   "file_extension": ".py",
   "mimetype": "text/x-python",
   "name": "python",
   "nbconvert_exporter": "python",
   "pygments_lexer": "ipython3",
   "version": "3.8.3"
  }
 },
 "nbformat": 4,
 "nbformat_minor": 4
}
